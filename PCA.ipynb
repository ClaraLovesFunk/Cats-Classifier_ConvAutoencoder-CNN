{
 "cells": [
  {
   "cell_type": "code",
   "execution_count": 5,
   "metadata": {},
   "outputs": [
    {
     "name": "stdout",
     "output_type": "stream",
     "text": [
      "[[2.64026222 1.33094283 0.84852605 1.52964997]\n",
      " [1.33094283 0.76019405 0.3142315  0.69913365]\n",
      " [0.84852605 0.3142315  0.44754506 0.63662687]\n",
      " [1.52964997 0.69913365 0.63662687 1.41164747]]\n",
      "[0.82482786 0.32882904 0.32629563 0.45356862]\n",
      "[[ 0.74168665  0.35786165  0.26853331  0.49972574]\n",
      " [-0.38840895 -0.45757398  0.31199096  0.73649588]\n",
      " [-0.23176638  0.41279436 -0.75483381  0.45399459]\n",
      " [ 0.49530167 -0.70154252 -0.51066371  0.04167635]]\n",
      "explained var: [0.87787009 0.09327968 0.02773365 0.00111658]\n"
     ]
    },
    {
     "ename": "AttributeError",
     "evalue": "module 'matplotlib' has no attribute 'scatter'",
     "output_type": "error",
     "traceback": [
      "\u001b[0;31m---------------------------------------------------------------------------\u001b[0m",
      "\u001b[0;31mAttributeError\u001b[0m                            Traceback (most recent call last)",
      "\u001b[1;32m/home/users/cwicharz/cats_n_dogs/PCA.ipynb Cell 1\u001b[0m in \u001b[0;36m<module>\u001b[0;34m\u001b[0m\n\u001b[1;32m     <a href='vscode-notebook-cell://ssh-remote%2Bpm/home/users/cwicharz/cats_n_dogs/PCA.ipynb#W0sdnNjb2RlLXJlbW90ZQ%3D%3D?line=25'>26</a>\u001b[0m pca_2 \u001b[39m=\u001b[39m PCA(n_components\u001b[39m=\u001b[39m\u001b[39m2\u001b[39m)\u001b[39m.\u001b[39mfit(X)\n\u001b[1;32m     <a href='vscode-notebook-cell://ssh-remote%2Bpm/home/users/cwicharz/cats_n_dogs/PCA.ipynb#W0sdnNjb2RlLXJlbW90ZQ%3D%3D?line=26'>27</a>\u001b[0m transformed \u001b[39m=\u001b[39m pca_2\u001b[39m.\u001b[39mfit_transform(X)\n\u001b[0;32m---> <a href='vscode-notebook-cell://ssh-remote%2Bpm/home/users/cwicharz/cats_n_dogs/PCA.ipynb#W0sdnNjb2RlLXJlbW90ZQ%3D%3D?line=27'>28</a>\u001b[0m plt\u001b[39m.\u001b[39;49mscatter(transformed\u001b[39m.\u001b[39mT[\u001b[39m0\u001b[39m], transformed\u001b[39m.\u001b[39mT[\u001b[39m1\u001b[39m])\n\u001b[1;32m     <a href='vscode-notebook-cell://ssh-remote%2Bpm/home/users/cwicharz/cats_n_dogs/PCA.ipynb#W0sdnNjb2RlLXJlbW90ZQ%3D%3D?line=30'>31</a>\u001b[0m \u001b[39mfrom\u001b[39;00m \u001b[39mmpl_toolkits\u001b[39;00m \u001b[39mimport\u001b[39;00m mplot3d\n\u001b[1;32m     <a href='vscode-notebook-cell://ssh-remote%2Bpm/home/users/cwicharz/cats_n_dogs/PCA.ipynb#W0sdnNjb2RlLXJlbW90ZQ%3D%3D?line=31'>32</a>\u001b[0m pca_3 \u001b[39m=\u001b[39m PCA(n_components\u001b[39m=\u001b[39m\u001b[39m3\u001b[39m)\u001b[39m.\u001b[39mfit(X)\n",
      "File \u001b[0;32m~/.local/lib/python3.8/site-packages/matplotlib/_api/__init__.py:226\u001b[0m, in \u001b[0;36mcaching_module_getattr.<locals>.__getattr__\u001b[0;34m(name)\u001b[0m\n\u001b[1;32m    224\u001b[0m \u001b[39mif\u001b[39;00m name \u001b[39min\u001b[39;00m props:\n\u001b[1;32m    225\u001b[0m     \u001b[39mreturn\u001b[39;00m props[name]\u001b[39m.\u001b[39m\u001b[39m__get__\u001b[39m(instance)\n\u001b[0;32m--> 226\u001b[0m \u001b[39mraise\u001b[39;00m \u001b[39mAttributeError\u001b[39;00m(\n\u001b[1;32m    227\u001b[0m     \u001b[39mf\u001b[39m\u001b[39m\"\u001b[39m\u001b[39mmodule \u001b[39m\u001b[39m{\u001b[39;00m\u001b[39mcls\u001b[39m\u001b[39m.\u001b[39m\u001b[39m__module__\u001b[39m\u001b[39m!r}\u001b[39;00m\u001b[39m has no attribute \u001b[39m\u001b[39m{\u001b[39;00mname\u001b[39m!r}\u001b[39;00m\u001b[39m\"\u001b[39m)\n",
      "\u001b[0;31mAttributeError\u001b[0m: module 'matplotlib' has no attribute 'scatter'"
     ]
    }
   ],
   "source": [
    "import numpy as np\n",
    "import matplotlib.pyplot as plt\n",
    "from matplotlib import pyplot as plt\n",
    "from sklearn.decomposition import PCA\n",
    "\n",
    "import matplotlib as plt\n",
    "from matplotlib.pyplot import imread\n",
    "import numpy as np\n",
    "\n",
    "\n",
    "A = np.random.rand(4, 4) # 4 instances, 4 features\n",
    "B = np.dot(A, A.transpose())\n",
    "print(B)\n",
    "\n",
    "samples = 500\n",
    "covariance_matrix = B\n",
    "X = np.random.multivariate_normal(mean=[0,0,0,0], cov=covariance_matrix, size=samples) # instances 4 dimensional\n",
    "print(X[0])\n",
    "\n",
    "\n",
    "pca = PCA(n_components=4).fit(X)\n",
    "# Now let’s take a look at our components and our explained variances:\n",
    "print(pca.components_)\n",
    "print(f'explained var: {pca.explained_variance_ratio_}')\n",
    "\n",
    "pca_2 = PCA(n_components=2).fit(X)\n",
    "transformed = pca_2.fit_transform(X)\n",
    "plt.scatter(transformed.T[0], transformed.T[1])\n",
    "\n",
    "\n",
    "from mpl_toolkits import mplot3d\n",
    "pca_3 = PCA(n_components=3).fit(X)\n",
    "transformed = pca_3.fit_transform(X)\n",
    "#fig = plt.figure()\n",
    "#ax = plt.axes(projection = '3d')\n",
    "#ax.scatter(transformed.T[0], transformed.T[1], transformed.T[2], alpha=0.3)\n",
    "\n",
    "from matplotlib.pyplot import imread\n",
    "img = imread(\"data/train/cat.0.jpg\")\n",
    "img = img.astype(np.uint8)\n",
    "print(img.shape)\n",
    "img = img.mean(axis=2)\n",
    "plt.imshow(img, cmap=\"gray\")\n",
    "\n",
    "\n"
   ]
  }
 ],
 "metadata": {
  "kernelspec": {
   "display_name": "Python 3",
   "language": "python",
   "name": "python3"
  },
  "language_info": {
   "codemirror_mode": {
    "name": "ipython",
    "version": 3
   },
   "file_extension": ".py",
   "mimetype": "text/x-python",
   "name": "python",
   "nbconvert_exporter": "python",
   "pygments_lexer": "ipython3",
   "version": "3.8.10"
  },
  "orig_nbformat": 4,
  "vscode": {
   "interpreter": {
    "hash": "31f2aee4e71d21fbe5cf8b01ff0e069b9275f58929596ceb00d14d90e3e16cd6"
   }
  }
 },
 "nbformat": 4,
 "nbformat_minor": 2
}
